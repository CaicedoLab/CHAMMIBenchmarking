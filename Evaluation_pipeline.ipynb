{
 "cells": [
  {
   "cell_type": "code",
   "execution_count": null,
   "id": "42bcede9",
   "metadata": {},
   "outputs": [],
   "source": [
    "import torch\n",
    "import json\n",
    "import pandas as pd\n",
    "import numpy as np\n",
    "import matplotlib.pyplot as plt\n",
    "from skimage import io\n",
    "import skimage\n",
    "from importlib import reload\n",
    "import os\n",
    "import folded_dataset\n",
    "reload(folded_dataset)\n",
    "import utils\n",
    "reload(utils)\n",
    "from sklearn.linear_model import SGDClassifier\n",
    "from sklearn.metrics import f1_score, classification_report\n",
    "\n",
    "import evaluation"
   ]
  },
  {
   "cell_type": "code",
   "execution_count": null,
   "id": "b069124d",
   "metadata": {},
   "outputs": [],
   "source": [
    "root_dir = '/scr/zchen/datasets/morphem_70k_2.0'\n",
    "dataset = 'CP'\n",
    "model_choice = 'knn' # 'knn' or 'sgd'\n",
    "\n",
    "leave_out = 'Task_four' # Leave-one-out task, set to None for Allen, 'Task_three' for HPA, 'Task_four' for CP\n",
    "leaveout_label = 'Plate' # Leave-one-out column name, 'cell_type' for HPA, 'Plate' for CP\n",
    "\n",
    "dest_dir = f'results' # directory to save results\n",
    "save_csv = True # Set to True when running the last dataset to save result csv"
   ]
  },
  {
   "cell_type": "code",
   "execution_count": null,
   "id": "ff46eab2",
   "metadata": {},
   "outputs": [],
   "source": [
    "features_path = f'{root_dir}/features/{dataset}/pretrained_resnet18_features.npy'\n",
    "df_path = f'{root_dir}/{dataset}/enriched_meta.csv'\n",
    "\n",
    "results = evaluation.evaluate(features_path, df_path, leave_out, leaveout_label, model_choice)\n",
    "\n",
    "print('Results:')\n",
    "for task_ind, task in enumerate(results[\"tasks\"]):\n",
    "    print(f'Results for {dataset} {task} with {model_choice} :')\n",
    "    print(results[\"reports_str\"][task_ind])"
   ]
  },
  {
   "cell_type": "code",
   "execution_count": null,
   "id": "7a1b67b8",
   "metadata": {},
   "outputs": [],
   "source": [
    "full_reports_dict = {}\n",
    "full_reports_dict['target_encoding'] = results[\"encoded_target\"]\n",
    "for task_ind, task in enumerate(results[\"tasks\"]):\n",
    "    full_reports_dict[task] = results[\"reports_dict\"][task_ind]\n"
   ]
  },
  {
   "cell_type": "code",
   "execution_count": null,
   "id": "c185bfea",
   "metadata": {},
   "outputs": [],
   "source": [
    "if not os.path.exists(dest_dir+ '/'):\n",
    "    os.makedirs(dest_dir+ '/')\n",
    "    \n",
    "dict_path = f'{dest_dir}/{dataset}_{model_choice}_full_results.json'\n",
    "with open(dict_path, 'w') as f:\n",
    "    json.dump(full_reports_dict, f)"
   ]
  },
  {
   "cell_type": "code",
   "execution_count": null,
   "id": "7b6da95e",
   "metadata": {},
   "outputs": [],
   "source": [
    "if 'results_df' in locals():\n",
    "    results_temp = pd.DataFrame({'source': [dataset for i in range(len(results[\"tasks\"]))],\\\n",
    "                        'task': results[\"tasks\"],'model': [model_choice for i in range(len(results[\"tasks\"]))],\\\n",
    "                        'accuracy': results[\"accuracies\"],'f1_score_macro': results[\"f1scores_macro\"]})\n",
    "    results_df = pd.concat([results_df, results_temp]).reset_index(drop=True)\n",
    "\n",
    "else: \n",
    "    results_df = pd.DataFrame({'source': [dataset for i in range(len(results[\"tasks\"]))],\\\n",
    "                        'task': results[\"tasks\"],'model': [model_choice for i in range(len(results[\"tasks\"]))],\\\n",
    "                        'accuracy': results[\"accuracies\"],'f1_score_macro': results[\"f1scores_macro\"]})"
   ]
  },
  {
   "cell_type": "code",
   "execution_count": null,
   "id": "eb01a07e",
   "metadata": {},
   "outputs": [],
   "source": [
    "if save_csv:\n",
    "    results_df.to_csv(f'{dest_dir}/resnet18_knn_sgd.csv', index=False)"
   ]
  },
  {
   "cell_type": "code",
   "execution_count": null,
   "id": "426e5183-1100-4ecf-9006-eac0f406ca43",
   "metadata": {},
   "outputs": [],
   "source": []
  }
 ],
 "metadata": {
  "kernelspec": {
   "display_name": "Python 3 (ipykernel)",
   "language": "python",
   "name": "python3"
  },
  "language_info": {
   "codemirror_mode": {
    "name": "ipython",
    "version": 3
   },
   "file_extension": ".py",
   "mimetype": "text/x-python",
   "name": "python",
   "nbconvert_exporter": "python",
   "pygments_lexer": "ipython3",
   "version": "3.9.12"
  }
 },
 "nbformat": 4,
 "nbformat_minor": 5
}
