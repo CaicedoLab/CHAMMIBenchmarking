{
 "cells": [
  {
   "cell_type": "code",
   "execution_count": 3,
   "metadata": {},
   "outputs": [],
   "source": [
    "import numpy\n",
    "import sys\n",
    "sys.path.append('/scr/vidit/Foundation_Models/FoundationModels')\n",
    "from FoundationModels import *"
   ]
  },
  {
   "cell_type": "code",
   "execution_count": 4,
   "metadata": {},
   "outputs": [],
   "source": [
    "from FoundationModels.dataset.dataset import IterableImageArchive\n",
    "from FoundationModels.dataset import dataset_config\n",
    "from FoundationModels.dataset.dataset_functions import randomize, split_for_workers, get_proc_split\n",
    "from torch.utils.data import DataLoader\n",
    "from torchvision.transforms import v2\n",
    "from torchvision import datasets, transforms\n",
    "\n",
    "\n",
    "transform = v2.Compose([\n",
    "    v2.CenterCrop(224),\n",
    "    v2.ToTensor(),\n",
    "    v2.Normalize([0.485, 0.456, 0.406], [0.229, 0.224, 0.225])\n",
    "])\n",
    "\n",
    "config = dataset_config.DatasetConfig(\n",
    "            \"/scr/data/foundation_data/CHAMMIv2s.zip\", # args.data_path, /scr/data/CHAMMIv2m.zip\n",
    "            split_fns=[randomize, split_for_workers],\n",
    "            transform=transform,\n",
    "            seed=42\n",
    "            )\n",
    "\n",
    "dataset = IterableImageArchive(config)\n",
    "data_loader = DataLoader(dataset=dataset, batch_size=512, num_workers=8, worker_init_fn=dataset.worker_init_fn)"
   ]
  },
  {
   "cell_type": "code",
   "execution_count": null,
   "metadata": {},
   "outputs": [],
   "source": [
    "for it, images in tqdm(data_loader, total=len(data_loader)):\n",
    "    print(images.shape)\n",
    "    break"
   ]
  },
  {
   "cell_type": "code",
   "execution_count": null,
   "metadata": {},
   "outputs": [],
   "source": []
  }
 ],
 "metadata": {
  "kernelspec": {
   "display_name": "base",
   "language": "python",
   "name": "python3"
  },
  "language_info": {
   "codemirror_mode": {
    "name": "ipython",
    "version": 3
   },
   "file_extension": ".py",
   "mimetype": "text/x-python",
   "name": "python",
   "nbconvert_exporter": "python",
   "pygments_lexer": "ipython3",
   "version": "3.11.6"
  }
 },
 "nbformat": 4,
 "nbformat_minor": 2
}
