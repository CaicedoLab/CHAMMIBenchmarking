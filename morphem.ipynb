{
 "cells": [
  {
   "cell_type": "code",
   "execution_count": null,
   "id": "ff46eab2",
   "metadata": {},
   "outputs": [],
   "source": [
    "import torch\n",
    "import pandas as pd\n",
    "import numpy as np\n",
    "import matplotlib.pyplot as plt\n",
    "from skimage import io\n",
    "import skimage\n",
    "from importlib import reload\n",
    "import folded_dataset\n",
    "reload(folded_dataset)"
   ]
  },
  {
   "cell_type": "code",
   "execution_count": null,
   "id": "7e61089d",
   "metadata": {},
   "outputs": [],
   "source": [
    "root_dir = '/scr/zchen/datasets/morphem_70k_2.0/'\n",
    "combined_metadata_path = root_dir + 'combined_metadata.csv'\n",
    "combined_metadata = pd.read_csv(combined_metadata_path)"
   ]
  },
  {
   "cell_type": "code",
   "execution_count": null,
   "id": "beb5d2bb",
   "metadata": {},
   "outputs": [],
   "source": [
    "resize_transformation = folded_dataset.Single_cell_centered(224)\n",
    "center_crop_transformation = folded_dataset.RandomResizedCrop(224, (0.8, 1.0))"
   ]
  },
  {
   "cell_type": "code",
   "execution_count": null,
   "id": "08cb0690",
   "metadata": {},
   "outputs": [],
   "source": [
    "dataset = folded_dataset.SingleCellDataset(csv_file=combined_metadata_path,\n",
    "                                           root_dir=root_dir,\n",
    "                                           transform=center_crop_transformation)\n"
   ]
  },
  {
   "cell_type": "code",
   "execution_count": null,
   "id": "8fe7bc33",
   "metadata": {},
   "outputs": [],
   "source": [
    "sample_inds = [0, 100000, 190001]\n",
    "for ind in sample_inds:\n",
    "    fig, axes = plt.subplots(1,2,figsize=(10,5))\n",
    "    axes[0].imshow(io.imread(root_dir + combined_metadata.iloc[ind].file_path))\n",
    "    axes[1].imshow(dataset[ind][0].numpy().transpose(1,2,0)[:,:,:3])\n"
   ]
  }
 ],
 "metadata": {
  "kernelspec": {
   "display_name": "Python 3 (ipykernel)",
   "language": "python",
   "name": "python3"
  },
  "language_info": {
   "codemirror_mode": {
    "name": "ipython",
    "version": 3
   },
   "file_extension": ".py",
   "mimetype": "text/x-python",
   "name": "python",
   "nbconvert_exporter": "python",
   "pygments_lexer": "ipython3",
   "version": "3.9.15"
  }
 },
 "nbformat": 4,
 "nbformat_minor": 5
}
