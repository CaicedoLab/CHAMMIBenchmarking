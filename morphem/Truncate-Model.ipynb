{
 "cells": [
  {
   "cell_type": "code",
   "execution_count": null,
   "metadata": {},
   "outputs": [],
   "source": [
    "import torch\n",
    "from torch.utils.data import DataLoader\n",
    "from torch import nn\n",
    "\n",
    "import pandas as pd\n",
    "import numpy as np\n",
    "import matplotlib.pyplot as plt\n",
    "from skimage import io\n",
    "import skimage\n",
    "import importlib\n",
    "from tqdm import tqdm\n",
    "\n",
    "from vision_transformer import vit_small\n",
    "from torchvision.models import resnet18, ResNet18_Weights\n",
    "from timm import create_model\n",
    "import torch.nn.functional as F\n",
    "import sys\n",
    "\n",
    "import argparse"
   ]
  },
  {
   "cell_type": "code",
   "execution_count": null,
   "metadata": {},
   "outputs": [],
   "source": [
    "model = vit_small()\n",
    "from collections import OrderedDict\n",
    "student_model = torch.load(\"/scr/vidit/Foundation_Models/model_weights/checkpoint0080.pth\")['student']\n",
    "remove_prefixes = [\"module.backbone.\", \"module.\", \"module.head.\"]\n",
    "exclude_keys = [\"head.mlp\", \"head.last_layer\"]  # Remove classification head\n",
    "cleaned_state_dict = OrderedDict()\n",
    "\n",
    "type(student_model)"
   ]
  },
  {
   "cell_type": "code",
   "execution_count": null,
   "metadata": {},
   "outputs": [],
   "source": [
    "# Remove unwanted prefixes\n",
    "cleaned_state_dict = {}\n",
    "for k, v in student_model.items():\n",
    "    new_key = k\n",
    "    for prefix in remove_prefixes:\n",
    "        if new_key.startswith(prefix):\n",
    "            new_key = new_key[len(prefix):]  # Remove prefix\n",
    "    if not new_key.startswith(\"head.mlp\") and not new_key.startswith(\"head.last_layer\"):\n",
    "        cleaned_state_dict[new_key] = v  # Keep only valid keys"
   ]
  },
  {
   "cell_type": "code",
   "execution_count": null,
   "metadata": {},
   "outputs": [],
   "source": [
    "cleaned_state_dict"
   ]
  },
  {
   "cell_type": "code",
   "execution_count": null,
   "metadata": {},
   "outputs": [],
   "source": [
    "model.load_state_dict(cleaned_state_dict, strict=False)\n",
    "model"
   ]
  },
  {
   "cell_type": "code",
   "execution_count": null,
   "metadata": {},
   "outputs": [],
   "source": []
  }
 ],
 "metadata": {
  "kernelspec": {
   "display_name": "base",
   "language": "python",
   "name": "python3"
  },
  "language_info": {
   "codemirror_mode": {
    "name": "ipython",
    "version": 3
   },
   "file_extension": ".py",
   "mimetype": "text/x-python",
   "name": "python",
   "nbconvert_exporter": "python",
   "pygments_lexer": "ipython3",
   "version": "3.11.6"
  }
 },
 "nbformat": 4,
 "nbformat_minor": 2
}
