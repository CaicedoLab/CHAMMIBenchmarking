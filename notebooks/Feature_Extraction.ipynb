{
 "cells": [
  {
   "cell_type": "code",
   "execution_count": null,
   "id": "ff46eab2",
   "metadata": {},
   "outputs": [],
   "source": [
    "import torch\n",
    "import pandas as pd\n",
    "import numpy as np\n",
    "import matplotlib.pyplot as plt\n",
    "from skimage import io\n",
    "import skimage\n",
    "from importlib import reload\n",
    "import folded_dataset\n",
    "reload(folded_dataset)"
   ]
  },
  {
   "cell_type": "code",
   "execution_count": null,
   "id": "7e61089d",
   "metadata": {},
   "outputs": [],
   "source": [
    "root_dir = '/scr/zchen/datasets/morphem_70k_2.0/'\n",
    "\n",
    "dataset_name = 'HPA'\n",
    "df_path = f'{root_dir}{dataset_name}/enriched_meta.csv'\n",
    "df = pd.read_csv(df_path)"
   ]
  },
  {
   "cell_type": "code",
   "execution_count": null,
   "id": "08cb0690",
   "metadata": {},
   "outputs": [],
   "source": [
    "dataset = folded_dataset.SingleCellDataset(csv_file=df_path,\n",
    "                                           root_dir=root_dir, target_labels='train_test_split')\n"
   ]
  },
  {
   "cell_type": "code",
   "execution_count": null,
   "id": "8fe7bc33",
   "metadata": {},
   "outputs": [],
   "source": [
    "sample_inds = [0, 100, 200]\n",
    "for ind in sample_inds:\n",
    "    fig, axes = plt.subplots(1,2,figsize=(10,5))\n",
    "    axes[0].imshow(io.imread(root_dir + df.iloc[ind].file_path))\n",
    "    axes[1].imshow(dataset[ind][0].numpy().transpose(1,2,0)[:,:,:3])\n"
   ]
  },
  {
   "cell_type": "markdown",
   "id": "5f84e015",
   "metadata": {},
   "source": [
    "## ResNet Feature Extraction"
   ]
  },
  {
   "cell_type": "code",
   "execution_count": null,
   "id": "1f4d8f85",
   "metadata": {},
   "outputs": [],
   "source": [
    "from torchvision.models import resnet18, ResNet18_Weights\n",
    "from torch.utils.data import DataLoader\n",
    "from tqdm import tqdm"
   ]
  },
  {
   "cell_type": "code",
   "execution_count": null,
   "id": "28d19fe7",
   "metadata": {},
   "outputs": [],
   "source": [
    "device = torch.device(\"cuda:5\" if torch.cuda.is_available() else \"cpu\")"
   ]
  },
  {
   "cell_type": "code",
   "execution_count": null,
   "id": "ca0d4c19",
   "metadata": {},
   "outputs": [],
   "source": [
    "feature_dir = f'{root_dir}features\n",
    "feature_file = 'pretrained_resnet18_features.npy'"
   ]
  },
  {
   "cell_type": "code",
   "execution_count": null,
   "id": "34397e85",
   "metadata": {},
   "outputs": [],
   "source": [
    "weights = ResNet18_Weights.IMAGENET1K_V1\n",
    "m = resnet18(weights=weights).to(device)\n",
    "feature_extractor = torch.nn.Sequential(*list(m.children())[:-1]).to(device)"
   ]
  },
  {
   "cell_type": "code",
   "execution_count": null,
   "id": "70b992bf",
   "metadata": {},
   "outputs": [],
   "source": [
    "train_dataloader = DataLoader(dataset, batch_size=256, shuffle=False)"
   ]
  },
  {
   "cell_type": "code",
   "execution_count": null,
   "id": "6b6d00c6",
   "metadata": {},
   "outputs": [],
   "source": [
    "preprocess = weights.transforms()\n",
    "all_feat = []\n",
    "for images, label in tqdm(train_dataloader, total=len(train_dataloader)):\n",
    "    cloned_images = images.clone()\n",
    "    batch_feat = []\n",
    "    for i in range(cloned_images.shape[1]):\n",
    "        # Copy each channel three times \n",
    "        channel = cloned_images[:, i, :, :]\n",
    "        channel = channel.unsqueeze(1)\n",
    "        expanded = channel.expand(-1, 3, -1, -1)\n",
    "\n",
    "        expanded = preprocess(expanded).to(device)\n",
    "        feat_temp = feature_extractor(expanded).cpu().detach().numpy()\n",
    "        batch_feat.append(feat_temp)\n",
    "    batch_feat = np.concatenate(batch_feat, axis=1)\n",
    "    all_feat.append(batch_feat)"
   ]
  },
  {
   "cell_type": "code",
   "execution_count": null,
   "id": "12406d29",
   "metadata": {},
   "outputs": [],
   "source": [
    "all_feat = np.concatenate(all_feat)\n",
    "all_feat = all_feat.squeeze(2).squeeze(2)\n",
    "all_feat.shape"
   ]
  },
  {
   "cell_type": "code",
   "execution_count": null,
   "id": "f0c83987",
   "metadata": {},
   "outputs": [],
   "source": [
    "feature_path = f'{root_dir}features/{dataset_name}/pretrained_resnet18_features.npy'\n",
    "np.save(feature_path, all_feat)"
   ]
  }
 ],
 "metadata": {
  "kernelspec": {
   "display_name": "Python 3 (ipykernel)",
   "language": "python",
   "name": "python3"
  },
  "language_info": {
   "codemirror_mode": {
    "name": "ipython",
    "version": 3
   },
   "file_extension": ".py",
   "mimetype": "text/x-python",
   "name": "python",
   "nbconvert_exporter": "python",
   "pygments_lexer": "ipython3",
   "version": "3.9.15"
  }
 },
 "nbformat": 4,
 "nbformat_minor": 5
}
