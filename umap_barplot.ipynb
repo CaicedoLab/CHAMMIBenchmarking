{
 "cells": [
  {
   "cell_type": "code",
   "execution_count": null,
   "id": "42bcede9",
   "metadata": {},
   "outputs": [],
   "source": [
    "import json\n",
    "import pandas as pd\n",
    "import os\n",
    "import numpy as np\n",
    "import evaluation\n",
    "\n",
    "import umap \n",
    "import matplotlib.pyplot as plt\n",
    "import seaborn as sb\n"
   ]
  },
  {
   "cell_type": "markdown",
   "id": "608b113d",
   "metadata": {},
   "source": [
    "## Create Barplot"
   ]
  },
  {
   "cell_type": "code",
   "execution_count": null,
   "id": "d430e403",
   "metadata": {},
   "outputs": [],
   "source": [
    "result_dir = ''\n",
    "first_result = 'knn_full_results.csv'\n",
    "second_result = 'sgd_full_results.csv'\n",
    "\n",
    "dest_dir = f'results' # directory to save results\n",
    "\n",
    "hue = 'classifier'\n",
    "metric = ['accuracy', 'f1_score_macro']"
   ]
  },
  {
   "cell_type": "code",
   "execution_count": null,
   "id": "209e8ea7",
   "metadata": {},
   "outputs": [],
   "source": [
    "df_result1 = pd.read_csv(f'{result_dir}/{first_result}')\n",
    "df_result2 = pd.read_csv(f'{result_dir}/{second_result}')"
   ]
  },
  {
   "cell_type": "code",
   "execution_count": null,
   "id": "0d47437c",
   "metadata": {},
   "outputs": [],
   "source": [
    "df_results = pd.concat([df_result1, df_result2], ignore_index=True)\n",
    "df_results['Task_ID'] = df_results['dataset'] + '_' + df_results['task']"
   ]
  },
  {
   "cell_type": "code",
   "execution_count": null,
   "id": "2e6e98ad",
   "metadata": {},
   "outputs": [],
   "source": [
    "fig, axs = plt.subplots(nrows=2, ncols=1, figsize=(14, 14))\n",
    "\n",
    "e = sb.barplot(ax=axs[0],data=df_results, x=\"Task_ID\", y=metric[0], hue=hue, palette='BuPu')\n",
    "e.set(title=f'{metric[0]} of {hue}s')\n",
    "\n",
    "f = sb.barplot(ax=axs[1],data=df_results, x=\"Task_ID\", y=metric[1], hue=hue, palette='BrBG')\n",
    "f.set(title=f'{metric[1]} of {hue}s')\n",
    "\n",
    "plt.savefig(f'{dest_dir}/{hue}_barplot.png')"
   ]
  },
  {
   "cell_type": "markdown",
   "id": "9eba312e",
   "metadata": {},
   "source": [
    "## Create UMAP"
   ]
  },
  {
   "cell_type": "code",
   "execution_count": null,
   "id": "b069124d",
   "metadata": {},
   "outputs": [],
   "source": [
    "root_dir = '/scr/zchen/datasets/morphem_70k_2.0'\n",
    "dataset = 'Allen'\n",
    "\n",
    "other_label = 'Structure' # Column name used for plotting the second umap\n",
    "\n",
    "feature_dir = \"../datasets/morphem_70k_2.0/features\"\n",
    "feature_file = \"pretrained_resnet18_features.npy\" \n",
    "\n",
    "dest_dir = f'results' # directory to save results"
   ]
  },
  {
   "cell_type": "code",
   "execution_count": null,
   "id": "ff46eab2",
   "metadata": {},
   "outputs": [],
   "source": [
    "features_path = f'{feature_dir}/{dataset}/{feature_file}'\n",
    "df_path = f'{root_dir}/{dataset}/enriched_meta.csv'\n",
    "\n",
    "features = np.load(features_path)\n",
    "df = pd.read_csv(df_path)\n",
    "\n",
    "label_list = ['Label', other_label]"
   ]
  },
  {
   "cell_type": "code",
   "execution_count": null,
   "id": "a2f685ce",
   "metadata": {},
   "outputs": [],
   "source": [
    "tasks = list(df['train_test_split'].unique())\n",
    "tasks.remove('Train')\n",
    "\n",
    "# Split into training and testing\n",
    "train_idx = np.where(df['train_test_split'] == 'Train')[0]\n",
    "all_test_indices = [np.where(df[task])[0] for task in tasks]\n",
    "train_feat = features[train_idx]\n",
    "test_feat = [features[idx] for idx in all_test_indices]\n",
    "\n",
    "if not os.path.exists(dest_dir+ '/'):\n",
    "    os.makedirs(dest_dir+ '/')\n",
    "\n",
    "# Fit umap on training and project testing data\n",
    "reducer = umap.UMAP(n_neighbors=15, n_components=2)\n",
    "train_embeddings = reducer.fit_transform(train_feat)\n",
    "train_aux = pd.concat((pd.DataFrame(train_embeddings, columns=[\"X\", \"Y\"]), \n",
    "                       df.loc[train_idx].reset_index()), axis=1)\n",
    "print('Fitted umap with train set.')\n",
    "\n",
    "test_aux_list = []\n",
    "\n",
    "for i in range(len(tasks)):\n",
    "    test_embeddings = reducer.transform(test_feat[i])\n",
    "    test_aux = pd.concat((pd.DataFrame(test_embeddings, columns=[\"X\", \"Y\"]), \n",
    "                          df.loc[all_test_indices[i]].reset_index()), axis=1)\n",
    "    test_aux_list.append(test_aux)\n",
    "print('Transformed test set with fitted umap.')"
   ]
  },
  {
   "cell_type": "code",
   "execution_count": null,
   "id": "f2eb3fac",
   "metadata": {},
   "outputs": [],
   "source": [
    "# Plot the UMAP embedding\n",
    "\n",
    "fig, axs = plt.subplots(nrows=2, ncols=len(tasks)+1, figsize=(20*len(tasks)+1, 20))\n",
    "\n",
    "col1 = sb.hls_palette(len(df[label_list[0]].unique())).as_hex()\n",
    "col2 = sb.hls_palette(len(df[label_list[1]].unique())).as_hex()\n",
    "pal1, pal2 = {}, {}\n",
    "for i in range(len(df[label_list[0]].unique())):\n",
    "    val = df[label_list[0]].unique()[i]\n",
    "    pal1[val] = col1[i]\n",
    "    \n",
    "for i in range(len(df[label_list[1]].unique())):\n",
    "    val = df[label_list[1]].unique()[i]\n",
    "    pal2[val] = col2[i]\n",
    "\n",
    "\n",
    "# Train set classification label umap\n",
    "a = sb.scatterplot(ax=axs[0,0],data=train_aux, x=\"X\", y=\"Y\", s=5, hue='Label', palette=pal1)\n",
    "a.set(title=f'UMAP of {dataset} Train Set')\n",
    "\n",
    "# Train set subgroup umap\n",
    "c = sb.scatterplot(ax=axs[1,0],data=train_aux, x=\"X\", y=\"Y\", s=5, hue=label_list[1], palette=pal2)\n",
    "c.set(title=f'UMAP of {dataset} Train Set')\n",
    "\n",
    "legend_list = []\n",
    "for i in range(len(tasks)):\n",
    "    # Test set classification label umap\n",
    "    b = sb.scatterplot(ax=axs[0,i+1], data=test_aux_list[i], x=\"X\", y=\"Y\", s=5, hue='Label', \n",
    "                       palette=pal1)\n",
    "    b.set(title=f'UMAP of {dataset} Test Set for {tasks[i]}')\n",
    "\n",
    "    # Test set subgroup umap\n",
    "    d = sb.scatterplot(ax=axs[1,i+1], data=test_aux_list[i], x=\"X\", y=\"Y\", s=5, hue=label_list[1], \n",
    "                       palette=pal2)\n",
    "\n",
    "    d.set(title=f'UMAP of {dataset} Test Set for {tasks[i]}')\n",
    "\n",
    "    \n",
    "fig.savefig(f'{dest_dir}/umap_{dataset}.png')\n"
   ]
  }
 ],
 "metadata": {
  "kernelspec": {
   "display_name": "Python 3 (ipykernel)",
   "language": "python",
   "name": "python3"
  },
  "language_info": {
   "codemirror_mode": {
    "name": "ipython",
    "version": 3
   },
   "file_extension": ".py",
   "mimetype": "text/x-python",
   "name": "python",
   "nbconvert_exporter": "python",
   "pygments_lexer": "ipython3",
   "version": "3.9.15"
  }
 },
 "nbformat": 4,
 "nbformat_minor": 5
}
